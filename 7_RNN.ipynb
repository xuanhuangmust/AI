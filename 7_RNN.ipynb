{
  "nbformat": 4,
  "nbformat_minor": 0,
  "metadata": {
    "colab": {
      "provenance": []
    },
    "kernelspec": {
      "name": "python3",
      "display_name": "Python 3"
    },
    "language_info": {
      "name": "python"
    },
    "accelerator": "GPU",
    "gpuClass": "standard"
  },
  "cells": [
    {
      "cell_type": "code",
      "source": [
        "# 訓練資料集Google 2012-2016的股價。1258筆\n",
        "# 測試資料集Google 2017的股價。20筆\n",
        "!wget https://github.com/shhuangmust/AI/raw/111-2/Google_Stock_Price_Train.csv\n",
        "!wget https://github.com/shhuangmust/AI/raw/111-2/Google_Stock_Price_Test.csv"
      ],
      "metadata": {
        "colab": {
          "base_uri": "https://localhost:8080/"
        },
        "id": "Zs53bM-gKOsc",
        "outputId": "9099a82a-fcd3-4c7b-fc9b-e6cb2567aa3f"
      },
      "execution_count": null,
      "outputs": [
        {
          "output_type": "stream",
          "name": "stdout",
          "text": [
            "--2024-10-26 15:40:17--  https://github.com/shhuangmust/AI/raw/111-2/Google_Stock_Price_Train.csv\n",
            "Resolving github.com (github.com)... 140.82.121.3\n",
            "Connecting to github.com (github.com)|140.82.121.3|:443... connected.\n",
            "HTTP request sent, awaiting response... 302 Found\n",
            "Location: https://raw.githubusercontent.com/shhuangmust/AI/111-2/Google_Stock_Price_Train.csv [following]\n",
            "--2024-10-26 15:40:18--  https://raw.githubusercontent.com/shhuangmust/AI/111-2/Google_Stock_Price_Train.csv\n",
            "Resolving raw.githubusercontent.com (raw.githubusercontent.com)... 185.199.108.133, 185.199.109.133, 185.199.110.133, ...\n",
            "Connecting to raw.githubusercontent.com (raw.githubusercontent.com)|185.199.108.133|:443... connected.\n",
            "HTTP request sent, awaiting response... 200 OK\n",
            "Length: 63488 (62K) [text/plain]\n",
            "Saving to: ‘Google_Stock_Price_Train.csv’\n",
            "\n",
            "Google_Stock_Price_ 100%[===================>]  62.00K  --.-KB/s    in 0.007s  \n",
            "\n",
            "2024-10-26 15:40:18 (8.96 MB/s) - ‘Google_Stock_Price_Train.csv’ saved [63488/63488]\n",
            "\n",
            "--2024-10-26 15:40:18--  https://github.com/shhuangmust/AI/raw/111-2/Google_Stock_Price_Test.csv\n",
            "Resolving github.com (github.com)... 140.82.121.4\n",
            "Connecting to github.com (github.com)|140.82.121.4|:443... connected.\n",
            "HTTP request sent, awaiting response... 302 Found\n",
            "Location: https://raw.githubusercontent.com/shhuangmust/AI/111-2/Google_Stock_Price_Test.csv [following]\n",
            "--2024-10-26 15:40:18--  https://raw.githubusercontent.com/shhuangmust/AI/111-2/Google_Stock_Price_Test.csv\n",
            "Resolving raw.githubusercontent.com (raw.githubusercontent.com)... 185.199.111.133, 185.199.109.133, 185.199.110.133, ...\n",
            "Connecting to raw.githubusercontent.com (raw.githubusercontent.com)|185.199.111.133|:443... connected.\n",
            "HTTP request sent, awaiting response... 200 OK\n",
            "Length: 1029 (1.0K) [text/plain]\n",
            "Saving to: ‘Google_Stock_Price_Test.csv’\n",
            "\n",
            "Google_Stock_Price_ 100%[===================>]   1.00K  --.-KB/s    in 0s      \n",
            "\n",
            "2024-10-26 15:40:18 (4.99 MB/s) - ‘Google_Stock_Price_Test.csv’ saved [1029/1029]\n",
            "\n"
          ]
        }
      ]
    },
    {
      "cell_type": "code",
      "execution_count": null,
      "metadata": {
        "id": "iEPIpx_NI7U_"
      },
      "outputs": [],
      "source": [
        "import numpy as np\n",
        "import pandas as pd\n",
        "from sklearn.preprocessing import MinMaxScaler\n",
        "\n",
        "# 讀取訓練資料集\n",
        "dataset_train = pd.read_csv('Google_Stock_Price_Train.csv')\n",
        "# 取出Open股票指數欄位值\n",
        "training_set = dataset_train.iloc[:, 1:2].values\n",
        "# Feature Scaling：把股票指數變成0-1之間的數字\n",
        "sc = MinMaxScaler(feature_range = (0, 1))\n",
        "training_set_scaled = sc.fit_transform(training_set)\n",
        "\n",
        "X_train = []   #預測點的前 60 天的資料\n",
        "y_train = []   #預測點\n",
        "\n",
        "for i in range(60, 1258):  # 1258 是訓練集總數\n",
        "    X_train.append(training_set_scaled[i-60:i, 0])\n",
        "    y_train.append(training_set_scaled[i, 0])\n",
        "\n",
        "# 轉成numpy array的格式，以利輸入RNN\n",
        "X_train, y_train = np.array(X_train), np.array(y_train)\n",
        "\n",
        "X_train = np.reshape(X_train, (X_train.shape[0], X_train.shape[1], 1))"
      ]
    },
    {
      "cell_type": "code",
      "source": [
        "print(X_train.shape)\n",
        "print(X_train[0])"
      ],
      "metadata": {
        "colab": {
          "base_uri": "https://localhost:8080/"
        },
        "id": "tiXtrXaUrzEq",
        "outputId": "f5b0ff4c-e63f-4cd7-9923-6fa34484e5be"
      },
      "execution_count": null,
      "outputs": [
        {
          "output_type": "stream",
          "name": "stdout",
          "text": [
            "(1198, 60, 1)\n",
            "[[0.08581368]\n",
            " [0.09701243]\n",
            " [0.09433366]\n",
            " [0.09156187]\n",
            " [0.07984225]\n",
            " [0.0643277 ]\n",
            " [0.0585423 ]\n",
            " [0.06568569]\n",
            " [0.06109085]\n",
            " [0.06639259]\n",
            " [0.0614257 ]\n",
            " [0.07474514]\n",
            " [0.02797827]\n",
            " [0.02379269]\n",
            " [0.02409033]\n",
            " [0.0159238 ]\n",
            " [0.01078949]\n",
            " [0.00967334]\n",
            " [0.01642607]\n",
            " [0.02100231]\n",
            " [0.02280676]\n",
            " [0.02273235]\n",
            " [0.02810849]\n",
            " [0.03212665]\n",
            " [0.0433812 ]\n",
            " [0.04475779]\n",
            " [0.04790163]\n",
            " [0.0440695 ]\n",
            " [0.04648783]\n",
            " [0.04745517]\n",
            " [0.04873875]\n",
            " [0.03936305]\n",
            " [0.04137213]\n",
            " [0.04034898]\n",
            " [0.04784582]\n",
            " [0.04325099]\n",
            " [0.04356723]\n",
            " [0.04286033]\n",
            " [0.04602277]\n",
            " [0.05398467]\n",
            " [0.05738894]\n",
            " [0.05714711]\n",
            " [0.05569611]\n",
            " [0.04421832]\n",
            " [0.04514845]\n",
            " [0.04605997]\n",
            " [0.04412531]\n",
            " [0.03675869]\n",
            " [0.04486941]\n",
            " [0.05065481]\n",
            " [0.05214302]\n",
            " [0.05612397]\n",
            " [0.05818885]\n",
            " [0.06540665]\n",
            " [0.06882953]\n",
            " [0.07243843]\n",
            " [0.07993526]\n",
            " [0.07846566]\n",
            " [0.08034452]\n",
            " [0.08497656]]\n"
          ]
        }
      ]
    },
    {
      "cell_type": "code",
      "source": [
        "# Import the Keras libraries and packages\n",
        "from keras.models import Sequential\n",
        "from keras.layers import Dense,Dropout,LSTM\n",
        "\n",
        "regressor = Sequential()\n",
        "regressor.add(LSTM(units = 50, return_sequences = True, input_shape = (X_train.shape[1], 1)))\n",
        "regressor.add(Dropout(0.2))\n",
        "regressor.add(LSTM(units = 50, return_sequences = True))\n",
        "regressor.add(Dropout(0.2))\n",
        "regressor.add(LSTM(units = 50, return_sequences = True))\n",
        "regressor.add(Dropout(0.2))\n",
        "regressor.add(LSTM(units = 50))\n",
        "regressor.add(Dropout(0.2))\n",
        "\n",
        "regressor.add(Dense(units = 1))\n",
        "\n",
        "regressor.compile(optimizer = 'adam', loss = 'mean_squared_error')"
      ],
      "metadata": {
        "colab": {
          "base_uri": "https://localhost:8080/"
        },
        "id": "6bn2CHbZJMPm",
        "outputId": "895ddacf-aeb3-4db0-f0f4-64016746abf2"
      },
      "execution_count": null,
      "outputs": [
        {
          "output_type": "stream",
          "name": "stderr",
          "text": [
            "/usr/local/lib/python3.10/dist-packages/keras/src/layers/rnn/rnn.py:204: UserWarning: Do not pass an `input_shape`/`input_dim` argument to a layer. When using Sequential models, prefer using an `Input(shape)` object as the first layer in the model instead.\n",
            "  super().__init__(**kwargs)\n"
          ]
        }
      ]
    },
    {
      "cell_type": "code",
      "source": [
        "# 進行訓練\n",
        "regressor.fit(X_train, y_train, epochs = 65, batch_size = 512)"
      ],
      "metadata": {
        "colab": {
          "base_uri": "https://localhost:8080/"
        },
        "id": "Z0AFhO_qskbS",
        "outputId": "5c235ce3-47c5-4eb9-8e1a-3abf34226137"
      },
      "execution_count": null,
      "outputs": [
        {
          "output_type": "stream",
          "name": "stdout",
          "text": [
            "Epoch 1/65\n",
            "\u001b[1m3/3\u001b[0m \u001b[32m━━━━━━━━━━━━━━━━━━━━\u001b[0m\u001b[37m\u001b[0m \u001b[1m8s\u001b[0m 44ms/step - loss: 0.3119\n",
            "Epoch 2/65\n",
            "\u001b[1m3/3\u001b[0m \u001b[32m━━━━━━━━━━━━━━━━━━━━\u001b[0m\u001b[37m\u001b[0m \u001b[1m5s\u001b[0m 36ms/step - loss: 0.0837\n",
            "Epoch 3/65\n",
            "\u001b[1m3/3\u001b[0m \u001b[32m━━━━━━━━━━━━━━━━━━━━\u001b[0m\u001b[37m\u001b[0m \u001b[1m0s\u001b[0m 35ms/step - loss: 0.0575\n",
            "Epoch 4/65\n",
            "\u001b[1m3/3\u001b[0m \u001b[32m━━━━━━━━━━━━━━━━━━━━\u001b[0m\u001b[37m\u001b[0m \u001b[1m0s\u001b[0m 36ms/step - loss: 0.0176\n",
            "Epoch 5/65\n",
            "\u001b[1m3/3\u001b[0m \u001b[32m━━━━━━━━━━━━━━━━━━━━\u001b[0m\u001b[37m\u001b[0m \u001b[1m0s\u001b[0m 36ms/step - loss: 0.0328\n",
            "Epoch 6/65\n",
            "\u001b[1m3/3\u001b[0m \u001b[32m━━━━━━━━━━━━━━━━━━━━\u001b[0m\u001b[37m\u001b[0m \u001b[1m0s\u001b[0m 32ms/step - loss: 0.0228\n",
            "Epoch 7/65\n",
            "\u001b[1m3/3\u001b[0m \u001b[32m━━━━━━━━━━━━━━━━━━━━\u001b[0m\u001b[37m\u001b[0m \u001b[1m0s\u001b[0m 34ms/step - loss: 0.0125\n",
            "Epoch 8/65\n",
            "\u001b[1m3/3\u001b[0m \u001b[32m━━━━━━━━━━━━━━━━━━━━\u001b[0m\u001b[37m\u001b[0m \u001b[1m0s\u001b[0m 31ms/step - loss: 0.0153\n",
            "Epoch 9/65\n",
            "\u001b[1m3/3\u001b[0m \u001b[32m━━━━━━━━━━━━━━━━━━━━\u001b[0m\u001b[37m\u001b[0m \u001b[1m0s\u001b[0m 28ms/step - loss: 0.0090\n",
            "Epoch 10/65\n",
            "\u001b[1m3/3\u001b[0m \u001b[32m━━━━━━━━━━━━━━━━━━━━\u001b[0m\u001b[37m\u001b[0m \u001b[1m0s\u001b[0m 34ms/step - loss: 0.0103\n",
            "Epoch 11/65\n",
            "\u001b[1m3/3\u001b[0m \u001b[32m━━━━━━━━━━━━━━━━━━━━\u001b[0m\u001b[37m\u001b[0m \u001b[1m0s\u001b[0m 28ms/step - loss: 0.0087\n",
            "Epoch 12/65\n",
            "\u001b[1m3/3\u001b[0m \u001b[32m━━━━━━━━━━━━━━━━━━━━\u001b[0m\u001b[37m\u001b[0m \u001b[1m0s\u001b[0m 33ms/step - loss: 0.0071\n",
            "Epoch 13/65\n",
            "\u001b[1m3/3\u001b[0m \u001b[32m━━━━━━━━━━━━━━━━━━━━\u001b[0m\u001b[37m\u001b[0m \u001b[1m0s\u001b[0m 31ms/step - loss: 0.0071\n",
            "Epoch 14/65\n",
            "\u001b[1m3/3\u001b[0m \u001b[32m━━━━━━━━━━━━━━━━━━━━\u001b[0m\u001b[37m\u001b[0m \u001b[1m0s\u001b[0m 25ms/step - loss: 0.0063\n",
            "Epoch 15/65\n",
            "\u001b[1m3/3\u001b[0m \u001b[32m━━━━━━━━━━━━━━━━━━━━\u001b[0m\u001b[37m\u001b[0m \u001b[1m0s\u001b[0m 29ms/step - loss: 0.0065\n",
            "Epoch 16/65\n",
            "\u001b[1m3/3\u001b[0m \u001b[32m━━━━━━━━━━━━━━━━━━━━\u001b[0m\u001b[37m\u001b[0m \u001b[1m0s\u001b[0m 24ms/step - loss: 0.0057\n",
            "Epoch 17/65\n",
            "\u001b[1m3/3\u001b[0m \u001b[32m━━━━━━━━━━━━━━━━━━━━\u001b[0m\u001b[37m\u001b[0m \u001b[1m0s\u001b[0m 31ms/step - loss: 0.0062\n",
            "Epoch 18/65\n",
            "\u001b[1m3/3\u001b[0m \u001b[32m━━━━━━━━━━━━━━━━━━━━\u001b[0m\u001b[37m\u001b[0m \u001b[1m0s\u001b[0m 24ms/step - loss: 0.0055\n",
            "Epoch 19/65\n",
            "\u001b[1m3/3\u001b[0m \u001b[32m━━━━━━━━━━━━━━━━━━━━\u001b[0m\u001b[37m\u001b[0m \u001b[1m0s\u001b[0m 24ms/step - loss: 0.0056\n",
            "Epoch 20/65\n",
            "\u001b[1m3/3\u001b[0m \u001b[32m━━━━━━━━━━━━━━━━━━━━\u001b[0m\u001b[37m\u001b[0m \u001b[1m0s\u001b[0m 29ms/step - loss: 0.0055\n",
            "Epoch 21/65\n",
            "\u001b[1m3/3\u001b[0m \u001b[32m━━━━━━━━━━━━━━━━━━━━\u001b[0m\u001b[37m\u001b[0m \u001b[1m0s\u001b[0m 24ms/step - loss: 0.0051\n",
            "Epoch 22/65\n",
            "\u001b[1m3/3\u001b[0m \u001b[32m━━━━━━━━━━━━━━━━━━━━\u001b[0m\u001b[37m\u001b[0m \u001b[1m0s\u001b[0m 29ms/step - loss: 0.0053\n",
            "Epoch 23/65\n",
            "\u001b[1m3/3\u001b[0m \u001b[32m━━━━━━━━━━━━━━━━━━━━\u001b[0m\u001b[37m\u001b[0m \u001b[1m0s\u001b[0m 25ms/step - loss: 0.0053\n",
            "Epoch 24/65\n",
            "\u001b[1m3/3\u001b[0m \u001b[32m━━━━━━━━━━━━━━━━━━━━\u001b[0m\u001b[37m\u001b[0m \u001b[1m0s\u001b[0m 25ms/step - loss: 0.0050\n",
            "Epoch 25/65\n",
            "\u001b[1m3/3\u001b[0m \u001b[32m━━━━━━━━━━━━━━━━━━━━\u001b[0m\u001b[37m\u001b[0m \u001b[1m0s\u001b[0m 25ms/step - loss: 0.0049\n",
            "Epoch 26/65\n",
            "\u001b[1m3/3\u001b[0m \u001b[32m━━━━━━━━━━━━━━━━━━━━\u001b[0m\u001b[37m\u001b[0m \u001b[1m0s\u001b[0m 24ms/step - loss: 0.0046\n",
            "Epoch 27/65\n",
            "\u001b[1m3/3\u001b[0m \u001b[32m━━━━━━━━━━━━━━━━━━━━\u001b[0m\u001b[37m\u001b[0m \u001b[1m0s\u001b[0m 25ms/step - loss: 0.0051\n",
            "Epoch 28/65\n"
          ]
        }
      ]
    },
    {
      "cell_type": "code",
      "source": [
        "# 讀取2017股票測試資料集\n",
        "dataset_test = pd.read_csv('Google_Stock_Price_Test.csv')\n",
        "# 抓出OPEN股票指數欄位值\n",
        "real_stock_price = dataset_test.iloc[:, 1:2].values\n",
        "\n",
        "#抓出2017年前60天的資料\n",
        "dataset_total = pd.concat((dataset_train['Open'], dataset_test['Open']), axis = 0)\n",
        "inputs = dataset_total[len(dataset_total) - len(dataset_test) - 60:].values\n",
        "inputs = inputs.reshape(-1,1)\n",
        "inputs = sc.transform(inputs) # Feature Scaling\n",
        "X_test = []\n",
        "for i in range(60, 80):  # timesteps一樣60； 80 = 先前的60天資料+2017年的20天資料\n",
        "    X_test.append(inputs[i-60:i, 0])\n",
        "X_test = np.array(X_test)\n",
        "X_test = np.reshape(X_test, (X_test.shape[0], X_test.shape[1], 1))\n",
        "\n",
        "# 預測股票指數\n",
        "predicted_stock_price = regressor.predict(X_test)\n",
        "# 把預測結果從0~1之間還原為原來的股票指數\n",
        "predicted_stock_price = sc.inverse_transform(predicted_stock_price)  # to get the original scale\n"
      ],
      "metadata": {
        "id": "wqYjyW78JUgQ"
      },
      "execution_count": null,
      "outputs": []
    },
    {
      "cell_type": "code",
      "source": [
        "# Visualising the results\n",
        "import matplotlib.pyplot as plt  # for 畫圖用\n",
        "plt.plot(real_stock_price, color = 'red', label = 'Real Google Stock Price')  # 紅線表示真實股價\n",
        "plt.plot(predicted_stock_price, color = 'blue', label = 'Predicted Google Stock Price')  # 藍線表示預測股價\n",
        "plt.title('Google Stock Price Prediction')\n",
        "plt.xlabel('Time')\n",
        "plt.ylabel('Google Stock Price')\n",
        "plt.legend()\n",
        "plt.show()"
      ],
      "metadata": {
        "id": "IySVvld_JbFz"
      },
      "execution_count": null,
      "outputs": []
    }
  ]
}